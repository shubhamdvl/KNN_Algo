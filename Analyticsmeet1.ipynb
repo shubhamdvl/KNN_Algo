{
 "cells": [
  {
   "cell_type": "markdown",
   "metadata": {},
   "source": [
    "Working With Iris Dataset For analysing KNN model"
   ]
  },
  {
   "cell_type": "code",
   "execution_count": null,
   "metadata": {},
   "outputs": [],
   "source": [
    "#importing libraries\n",
    "import numpy as np # linear algebra\n",
    "import pandas as pd # plying with dataframe\n",
    "import matplotlib.pyplot as plt\n",
    "import operator\n",
    "import seaborn as sns"
   ]
  },
  {
   "cell_type": "code",
   "execution_count": null,
   "metadata": {},
   "outputs": [],
   "source": [
    "data=pd.read_csv(\"iris.csv\")\n",
    "data.head()\n",
    "data.iloc[:7,1]"
   ]
  },
  {
   "cell_type": "code",
   "execution_count": null,
   "metadata": {},
   "outputs": [],
   "source": [
    "print(data.info())\n",
    "print(data['Name'].unique())\n",
    "print(data.describe())"
   ]
  },
  {
   "cell_type": "code",
   "execution_count": null,
   "metadata": {},
   "outputs": [],
   "source": [
    "sns.set_style(\"darkgrid\")\n",
    "sns.FacetGrid(data,hue='Name',height=5)\\\n",
    "    .map(plt.scatter,\"SepalLength\",\"SepalWidth\")\\\n",
    "    .add_legend()\n",
    "plt.show()"
   ]
  },
  {
   "cell_type": "code",
   "execution_count": null,
   "metadata": {},
   "outputs": [],
   "source": [
    "sns.set_style(\"darkgrid\")\n",
    "sns.pairplot(data,hue=\"Name\",kind=\"scatter\")\n",
    "plt.show()"
   ]
  },
  {
   "cell_type": "code",
   "execution_count": null,
   "metadata": {},
   "outputs": [],
   "source": [
    "sns.violinplot(y=\"Name\",x=\"PetalWidth\",data=data)\n",
    "plt.show()"
   ]
  },
  {
   "cell_type": "code",
   "execution_count": null,
   "metadata": {},
   "outputs": [],
   "source": [
    "sns.swarmplot(x=\"Name\",y=\"PetalLength\",data=data)\n",
    "plt.show()\n",
    "sns.stripplot(x=\"Name\",y=\"PetalWidth\",data=data)\n",
    "plt.show()\n",
    "sns.boxplot(y=\"Name\",x=\"PetalWidth\",data=data)\n",
    "plt.show()"
   ]
  },
  {
   "cell_type": "code",
   "execution_count": null,
   "metadata": {},
   "outputs": [],
   "source": [
    "data.corr()"
   ]
  },
  {
   "cell_type": "code",
   "execution_count": null,
   "metadata": {},
   "outputs": [],
   "source": [
    "def euclidean(data1,data2,length):\n",
    "    #this function returns the euclidean distance between two rows\n",
    "    #write your code from here\n",
    "    sum =0;\n",
    "    length = np.size(data1) - 1;\n",
    "    for i in range(length):\n",
    "        sum += (data1.iloc[i] - data2.iloc[i]) * (data1.iloc[i] - data2.iloc[i])\n",
    "    dist = np.sqrt(sum)\n",
    "    \n",
    "    return dist\n",
    "   "
   ]
  },
  {
   "cell_type": "code",
   "execution_count": null,
   "metadata": {},
   "outputs": [],
   "source": [
    "#defining our KNN model\n",
    "def KNN(train_set,test_instance,k):\n",
    "    \n",
    "    #make your knn model here\n",
    "    #Hint:\n",
    "    count_sentosa=0;\n",
    "    count_versi = 0;\n",
    "    count_virgin =0;\n",
    "    r,c = np.shape(train_set)\n",
    "    dist_mat = np.ones((r,3))\n",
    "    for i in range(r):\n",
    "        dist_mat[i][1] = euclidean(train_set.iloc[i],test_instance,c)\n",
    "        dist_mat[i][0] = i+1;\n",
    "        dist_mat[i][2] = trai_set.iloc[i][4]\n",
    "    \n",
    "    dist_mat = np.sort(dist_mat)\n",
    "    knns = dist_mat.iloc[:k]\n",
    "    \n",
    "    for j in range(145):\n",
    "        if(dist_mat[j][2] == 'Iris-setosa'):\n",
    "            count_sentosa+=1;\n",
    "        elif(dist_mat[j][2] == 'Iris-versicolor'):\n",
    "            count_versi+=1;\n",
    "        else:\n",
    "            count_virgin+=1;\n",
    "    \n",
    "    if(count_sentosa > count_virgin and count_sentosa > count_versi):\n",
    "        result = 'Iris-setosa'\n",
    "    \n",
    "    elif(count_versi > count_virgin and count_versi > count_sentosa):\n",
    "        result = 'Iris-versicolor'\n",
    "        \n",
    "    else:\n",
    "        result = 'Iris-virginica'\n",
    "        \n",
    "    neigh = dist_mat.iloc[:k,0]\n",
    "    \n",
    "    return result,neigh\n",
    "        \n",
    "    #step1 - store distances for each row in training set wrt test instance\n",
    "    #step2 - sort all the rows according to distances in ascending order\n",
    "    #step3 - take the first K sorted distences and append their id in a list\n",
    "    #step4 - use this list to count the no. of votes for each category\n",
    "    #step5 - return the category with highest no. of votes and their corresponding K neighbours id\n",
    "            \n",
    "    \n",
    "    \n",
    "        "
   ]
  },
  {
   "cell_type": "code",
   "execution_count": null,
   "metadata": {},
   "outputs": [],
   "source": [
    "test=[[2,5,6,7]]\n",
    "testset=pd.DataFrame(test)"
   ]
  },
  {
   "cell_type": "code",
   "execution_count": null,
   "metadata": {},
   "outputs": [],
   "source": [
    "result , neigh = KNN(data,testset,5)\n",
    "print(result)\n",
    "print(neigh)"
   ]
  },
  {
   "cell_type": "code",
   "execution_count": null,
   "metadata": {},
   "outputs": [],
   "source": [
    "from sklearn.neighbors import KNeighborsClassifier\n",
    "from sklearn import metrics\n",
    "from sklearn.model_selection import train_test_split\n"
   ]
  },
  {
   "cell_type": "code",
   "execution_count": null,
   "metadata": {},
   "outputs": [],
   "source": [
    "X = data.drop([\"Name\"],axis=1)\n",
    "y=data[\"Name\"]\n",
    "\n",
    "X_train,X_test,y_train,y_test = train_test_split(X,y,test_size=0.3,random_state=2)\n",
    "\n",
    "cls = KNeighborsClassifier(n_neighbors=11,weights='distance')\n",
    "cls.fit(X_train,y_train)\n",
    "prediction=cls.predict(X_test)\n",
    "\n",
    "\n"
   ]
  },
  {
   "cell_type": "code",
   "execution_count": null,
   "metadata": {},
   "outputs": [],
   "source": [
    "print(metrics.accuracy_score(prediction,y_test))\n",
    "print(metrics.f1_score(prediction,y_test,average='macro'))\n",
    "print(metrics.confusion_matrix(prediction,y_test))"
   ]
  }
 ],
 "metadata": {
  "kernelspec": {
   "display_name": "Python 3",
   "language": "python",
   "name": "python3"
  },
  "language_info": {
   "codemirror_mode": {
    "name": "ipython",
    "version": 3
   },
   "file_extension": ".py",
   "mimetype": "text/x-python",
   "name": "python",
   "nbconvert_exporter": "python",
   "pygments_lexer": "ipython3",
   "version": "3.7.1"
  }
 },
 "nbformat": 4,
 "nbformat_minor": 2
}
